{
  "nbformat": 4,
  "nbformat_minor": 0,
  "metadata": {
    "colab": {
      "name": "Copy of Diamond_price.ipynb",
      "provenance": [],
      "collapsed_sections": []
    },
    "kernelspec": {
      "display_name": "Python 3",
      "name": "python3"
    },
    "language_info": {
      "name": "python"
    }
  },
  "cells": [
    {
      "cell_type": "markdown",
      "metadata": {
        "id": "MYx6eXlQ0IqQ"
      },
      "source": [
        "##data exploration"
      ]
    },
    {
      "cell_type": "code",
      "metadata": {
        "id": "iFhkMqfbvKm0"
      },
      "source": [
        "import pandas as pd\n",
        "import matplotlib.pyplot as plt\n",
        "import numpy as np\n",
        "import seaborn as sns"
      ],
      "execution_count": null,
      "outputs": []
    },
    {
      "cell_type": "code",
      "metadata": {
        "colab": {
          "base_uri": "https://localhost:8080/",
          "height": 204
        },
        "id": "6g-maVZWyxh1",
        "outputId": "3f9bdecc-d632-40b5-e681-a109b1f362a1"
      },
      "source": [
        "diamonds = pd.read_csv(r'/content/diamonds.csv')\n",
        "# diamonds.drop('Unnamed: 0', inplace=True, axis=1)\n",
        "diamonds.head(5)"
      ],
      "execution_count": null,
      "outputs": [
        {
          "output_type": "execute_result",
          "data": {
            "text/html": [
              "<div>\n",
              "<style scoped>\n",
              "    .dataframe tbody tr th:only-of-type {\n",
              "        vertical-align: middle;\n",
              "    }\n",
              "\n",
              "    .dataframe tbody tr th {\n",
              "        vertical-align: top;\n",
              "    }\n",
              "\n",
              "    .dataframe thead th {\n",
              "        text-align: right;\n",
              "    }\n",
              "</style>\n",
              "<table border=\"1\" class=\"dataframe\">\n",
              "  <thead>\n",
              "    <tr style=\"text-align: right;\">\n",
              "      <th></th>\n",
              "      <th>Unnamed: 0</th>\n",
              "      <th>carat</th>\n",
              "      <th>cut</th>\n",
              "      <th>color</th>\n",
              "      <th>clarity</th>\n",
              "      <th>depth</th>\n",
              "      <th>table</th>\n",
              "      <th>price</th>\n",
              "      <th>x</th>\n",
              "      <th>y</th>\n",
              "      <th>z</th>\n",
              "    </tr>\n",
              "  </thead>\n",
              "  <tbody>\n",
              "    <tr>\n",
              "      <th>0</th>\n",
              "      <td>1</td>\n",
              "      <td>0.23</td>\n",
              "      <td>Ideal</td>\n",
              "      <td>E</td>\n",
              "      <td>SI2</td>\n",
              "      <td>61.5</td>\n",
              "      <td>55.0</td>\n",
              "      <td>326</td>\n",
              "      <td>3.95</td>\n",
              "      <td>3.98</td>\n",
              "      <td>2.43</td>\n",
              "    </tr>\n",
              "    <tr>\n",
              "      <th>1</th>\n",
              "      <td>2</td>\n",
              "      <td>0.21</td>\n",
              "      <td>Premium</td>\n",
              "      <td>E</td>\n",
              "      <td>SI1</td>\n",
              "      <td>59.8</td>\n",
              "      <td>61.0</td>\n",
              "      <td>326</td>\n",
              "      <td>3.89</td>\n",
              "      <td>3.84</td>\n",
              "      <td>2.31</td>\n",
              "    </tr>\n",
              "    <tr>\n",
              "      <th>2</th>\n",
              "      <td>3</td>\n",
              "      <td>0.23</td>\n",
              "      <td>Good</td>\n",
              "      <td>E</td>\n",
              "      <td>VS1</td>\n",
              "      <td>56.9</td>\n",
              "      <td>65.0</td>\n",
              "      <td>327</td>\n",
              "      <td>4.05</td>\n",
              "      <td>4.07</td>\n",
              "      <td>2.31</td>\n",
              "    </tr>\n",
              "    <tr>\n",
              "      <th>3</th>\n",
              "      <td>4</td>\n",
              "      <td>0.29</td>\n",
              "      <td>Premium</td>\n",
              "      <td>I</td>\n",
              "      <td>VS2</td>\n",
              "      <td>62.4</td>\n",
              "      <td>58.0</td>\n",
              "      <td>334</td>\n",
              "      <td>4.20</td>\n",
              "      <td>4.23</td>\n",
              "      <td>2.63</td>\n",
              "    </tr>\n",
              "    <tr>\n",
              "      <th>4</th>\n",
              "      <td>5</td>\n",
              "      <td>0.31</td>\n",
              "      <td>Good</td>\n",
              "      <td>J</td>\n",
              "      <td>SI2</td>\n",
              "      <td>63.3</td>\n",
              "      <td>58.0</td>\n",
              "      <td>335</td>\n",
              "      <td>4.34</td>\n",
              "      <td>4.35</td>\n",
              "      <td>2.75</td>\n",
              "    </tr>\n",
              "  </tbody>\n",
              "</table>\n",
              "</div>"
            ],
            "text/plain": [
              "   Unnamed: 0  carat      cut color clarity  ...  table  price     x     y     z\n",
              "0           1   0.23    Ideal     E     SI2  ...   55.0    326  3.95  3.98  2.43\n",
              "1           2   0.21  Premium     E     SI1  ...   61.0    326  3.89  3.84  2.31\n",
              "2           3   0.23     Good     E     VS1  ...   65.0    327  4.05  4.07  2.31\n",
              "3           4   0.29  Premium     I     VS2  ...   58.0    334  4.20  4.23  2.63\n",
              "4           5   0.31     Good     J     SI2  ...   58.0    335  4.34  4.35  2.75\n",
              "\n",
              "[5 rows x 11 columns]"
            ]
          },
          "metadata": {},
          "execution_count": 66
        }
      ]
    },
    {
      "cell_type": "code",
      "metadata": {
        "colab": {
          "base_uri": "https://localhost:8080/"
        },
        "id": "l0Y2L3NBztiZ",
        "outputId": "3d02a867-c018-42f0-ee5b-065d41ad9fef"
      },
      "source": [
        "diamonds.info()"
      ],
      "execution_count": null,
      "outputs": [
        {
          "output_type": "stream",
          "text": [
            "<class 'pandas.core.frame.DataFrame'>\n",
            "RangeIndex: 53940 entries, 0 to 53939\n",
            "Data columns (total 11 columns):\n",
            " #   Column      Non-Null Count  Dtype  \n",
            "---  ------      --------------  -----  \n",
            " 0   Unnamed: 0  53940 non-null  int64  \n",
            " 1   carat       53940 non-null  float64\n",
            " 2   cut         53940 non-null  object \n",
            " 3   color       53940 non-null  object \n",
            " 4   clarity     53940 non-null  object \n",
            " 5   depth       53940 non-null  float64\n",
            " 6   table       53940 non-null  float64\n",
            " 7   price       53940 non-null  int64  \n",
            " 8   x           53940 non-null  float64\n",
            " 9   y           53940 non-null  float64\n",
            " 10  z           53940 non-null  float64\n",
            "dtypes: float64(6), int64(2), object(3)\n",
            "memory usage: 4.5+ MB\n"
          ],
          "name": "stdout"
        }
      ]
    },
    {
      "cell_type": "code",
      "metadata": {
        "colab": {
          "base_uri": "https://localhost:8080/",
          "height": 300
        },
        "id": "Umd2OzA80QcM",
        "outputId": "4b23e2a3-e02a-4d1d-e0ac-6604baa53703"
      },
      "source": [
        "diamonds_num = diamonds.drop(['cut','color', 'clarity'], axis=1)\n",
        "diamonds_num.describe()"
      ],
      "execution_count": null,
      "outputs": [
        {
          "output_type": "execute_result",
          "data": {
            "text/html": [
              "<div>\n",
              "<style scoped>\n",
              "    .dataframe tbody tr th:only-of-type {\n",
              "        vertical-align: middle;\n",
              "    }\n",
              "\n",
              "    .dataframe tbody tr th {\n",
              "        vertical-align: top;\n",
              "    }\n",
              "\n",
              "    .dataframe thead th {\n",
              "        text-align: right;\n",
              "    }\n",
              "</style>\n",
              "<table border=\"1\" class=\"dataframe\">\n",
              "  <thead>\n",
              "    <tr style=\"text-align: right;\">\n",
              "      <th></th>\n",
              "      <th>Unnamed: 0</th>\n",
              "      <th>carat</th>\n",
              "      <th>depth</th>\n",
              "      <th>table</th>\n",
              "      <th>price</th>\n",
              "      <th>x</th>\n",
              "      <th>y</th>\n",
              "      <th>z</th>\n",
              "    </tr>\n",
              "  </thead>\n",
              "  <tbody>\n",
              "    <tr>\n",
              "      <th>count</th>\n",
              "      <td>53940.000000</td>\n",
              "      <td>53940.000000</td>\n",
              "      <td>53940.000000</td>\n",
              "      <td>53940.000000</td>\n",
              "      <td>53940.000000</td>\n",
              "      <td>53940.000000</td>\n",
              "      <td>53940.000000</td>\n",
              "      <td>53940.000000</td>\n",
              "    </tr>\n",
              "    <tr>\n",
              "      <th>mean</th>\n",
              "      <td>26970.500000</td>\n",
              "      <td>0.797940</td>\n",
              "      <td>61.749405</td>\n",
              "      <td>57.457184</td>\n",
              "      <td>3932.799722</td>\n",
              "      <td>5.731157</td>\n",
              "      <td>5.734526</td>\n",
              "      <td>3.538734</td>\n",
              "    </tr>\n",
              "    <tr>\n",
              "      <th>std</th>\n",
              "      <td>15571.281097</td>\n",
              "      <td>0.474011</td>\n",
              "      <td>1.432621</td>\n",
              "      <td>2.234491</td>\n",
              "      <td>3989.439738</td>\n",
              "      <td>1.121761</td>\n",
              "      <td>1.142135</td>\n",
              "      <td>0.705699</td>\n",
              "    </tr>\n",
              "    <tr>\n",
              "      <th>min</th>\n",
              "      <td>1.000000</td>\n",
              "      <td>0.200000</td>\n",
              "      <td>43.000000</td>\n",
              "      <td>43.000000</td>\n",
              "      <td>326.000000</td>\n",
              "      <td>0.000000</td>\n",
              "      <td>0.000000</td>\n",
              "      <td>0.000000</td>\n",
              "    </tr>\n",
              "    <tr>\n",
              "      <th>25%</th>\n",
              "      <td>13485.750000</td>\n",
              "      <td>0.400000</td>\n",
              "      <td>61.000000</td>\n",
              "      <td>56.000000</td>\n",
              "      <td>950.000000</td>\n",
              "      <td>4.710000</td>\n",
              "      <td>4.720000</td>\n",
              "      <td>2.910000</td>\n",
              "    </tr>\n",
              "    <tr>\n",
              "      <th>50%</th>\n",
              "      <td>26970.500000</td>\n",
              "      <td>0.700000</td>\n",
              "      <td>61.800000</td>\n",
              "      <td>57.000000</td>\n",
              "      <td>2401.000000</td>\n",
              "      <td>5.700000</td>\n",
              "      <td>5.710000</td>\n",
              "      <td>3.530000</td>\n",
              "    </tr>\n",
              "    <tr>\n",
              "      <th>75%</th>\n",
              "      <td>40455.250000</td>\n",
              "      <td>1.040000</td>\n",
              "      <td>62.500000</td>\n",
              "      <td>59.000000</td>\n",
              "      <td>5324.250000</td>\n",
              "      <td>6.540000</td>\n",
              "      <td>6.540000</td>\n",
              "      <td>4.040000</td>\n",
              "    </tr>\n",
              "    <tr>\n",
              "      <th>max</th>\n",
              "      <td>53940.000000</td>\n",
              "      <td>5.010000</td>\n",
              "      <td>79.000000</td>\n",
              "      <td>95.000000</td>\n",
              "      <td>18823.000000</td>\n",
              "      <td>10.740000</td>\n",
              "      <td>58.900000</td>\n",
              "      <td>31.800000</td>\n",
              "    </tr>\n",
              "  </tbody>\n",
              "</table>\n",
              "</div>"
            ],
            "text/plain": [
              "         Unnamed: 0         carat  ...             y             z\n",
              "count  53940.000000  53940.000000  ...  53940.000000  53940.000000\n",
              "mean   26970.500000      0.797940  ...      5.734526      3.538734\n",
              "std    15571.281097      0.474011  ...      1.142135      0.705699\n",
              "min        1.000000      0.200000  ...      0.000000      0.000000\n",
              "25%    13485.750000      0.400000  ...      4.720000      2.910000\n",
              "50%    26970.500000      0.700000  ...      5.710000      3.530000\n",
              "75%    40455.250000      1.040000  ...      6.540000      4.040000\n",
              "max    53940.000000      5.010000  ...     58.900000     31.800000\n",
              "\n",
              "[8 rows x 8 columns]"
            ]
          },
          "metadata": {},
          "execution_count": 4
        }
      ]
    },
    {
      "cell_type": "code",
      "metadata": {
        "colab": {
          "base_uri": "https://localhost:8080/",
          "height": 300
        },
        "id": "ep9ZdIZJ3kGg",
        "outputId": "a9a4e23a-4891-4093-f453-b851164ef507"
      },
      "source": [
        "diamonds_num.corr()"
      ],
      "execution_count": null,
      "outputs": [
        {
          "output_type": "execute_result",
          "data": {
            "text/html": [
              "<div>\n",
              "<style scoped>\n",
              "    .dataframe tbody tr th:only-of-type {\n",
              "        vertical-align: middle;\n",
              "    }\n",
              "\n",
              "    .dataframe tbody tr th {\n",
              "        vertical-align: top;\n",
              "    }\n",
              "\n",
              "    .dataframe thead th {\n",
              "        text-align: right;\n",
              "    }\n",
              "</style>\n",
              "<table border=\"1\" class=\"dataframe\">\n",
              "  <thead>\n",
              "    <tr style=\"text-align: right;\">\n",
              "      <th></th>\n",
              "      <th>Unnamed: 0</th>\n",
              "      <th>carat</th>\n",
              "      <th>depth</th>\n",
              "      <th>table</th>\n",
              "      <th>price</th>\n",
              "      <th>x</th>\n",
              "      <th>y</th>\n",
              "      <th>z</th>\n",
              "    </tr>\n",
              "  </thead>\n",
              "  <tbody>\n",
              "    <tr>\n",
              "      <th>Unnamed: 0</th>\n",
              "      <td>1.000000</td>\n",
              "      <td>-0.377983</td>\n",
              "      <td>-0.034800</td>\n",
              "      <td>-0.100830</td>\n",
              "      <td>-0.306873</td>\n",
              "      <td>-0.405440</td>\n",
              "      <td>-0.395843</td>\n",
              "      <td>-0.399208</td>\n",
              "    </tr>\n",
              "    <tr>\n",
              "      <th>carat</th>\n",
              "      <td>-0.377983</td>\n",
              "      <td>1.000000</td>\n",
              "      <td>0.028224</td>\n",
              "      <td>0.181618</td>\n",
              "      <td>0.921591</td>\n",
              "      <td>0.975094</td>\n",
              "      <td>0.951722</td>\n",
              "      <td>0.953387</td>\n",
              "    </tr>\n",
              "    <tr>\n",
              "      <th>depth</th>\n",
              "      <td>-0.034800</td>\n",
              "      <td>0.028224</td>\n",
              "      <td>1.000000</td>\n",
              "      <td>-0.295779</td>\n",
              "      <td>-0.010647</td>\n",
              "      <td>-0.025289</td>\n",
              "      <td>-0.029341</td>\n",
              "      <td>0.094924</td>\n",
              "    </tr>\n",
              "    <tr>\n",
              "      <th>table</th>\n",
              "      <td>-0.100830</td>\n",
              "      <td>0.181618</td>\n",
              "      <td>-0.295779</td>\n",
              "      <td>1.000000</td>\n",
              "      <td>0.127134</td>\n",
              "      <td>0.195344</td>\n",
              "      <td>0.183760</td>\n",
              "      <td>0.150929</td>\n",
              "    </tr>\n",
              "    <tr>\n",
              "      <th>price</th>\n",
              "      <td>-0.306873</td>\n",
              "      <td>0.921591</td>\n",
              "      <td>-0.010647</td>\n",
              "      <td>0.127134</td>\n",
              "      <td>1.000000</td>\n",
              "      <td>0.884435</td>\n",
              "      <td>0.865421</td>\n",
              "      <td>0.861249</td>\n",
              "    </tr>\n",
              "    <tr>\n",
              "      <th>x</th>\n",
              "      <td>-0.405440</td>\n",
              "      <td>0.975094</td>\n",
              "      <td>-0.025289</td>\n",
              "      <td>0.195344</td>\n",
              "      <td>0.884435</td>\n",
              "      <td>1.000000</td>\n",
              "      <td>0.974701</td>\n",
              "      <td>0.970772</td>\n",
              "    </tr>\n",
              "    <tr>\n",
              "      <th>y</th>\n",
              "      <td>-0.395843</td>\n",
              "      <td>0.951722</td>\n",
              "      <td>-0.029341</td>\n",
              "      <td>0.183760</td>\n",
              "      <td>0.865421</td>\n",
              "      <td>0.974701</td>\n",
              "      <td>1.000000</td>\n",
              "      <td>0.952006</td>\n",
              "    </tr>\n",
              "    <tr>\n",
              "      <th>z</th>\n",
              "      <td>-0.399208</td>\n",
              "      <td>0.953387</td>\n",
              "      <td>0.094924</td>\n",
              "      <td>0.150929</td>\n",
              "      <td>0.861249</td>\n",
              "      <td>0.970772</td>\n",
              "      <td>0.952006</td>\n",
              "      <td>1.000000</td>\n",
              "    </tr>\n",
              "  </tbody>\n",
              "</table>\n",
              "</div>"
            ],
            "text/plain": [
              "            Unnamed: 0     carat     depth  ...         x         y         z\n",
              "Unnamed: 0    1.000000 -0.377983 -0.034800  ... -0.405440 -0.395843 -0.399208\n",
              "carat        -0.377983  1.000000  0.028224  ...  0.975094  0.951722  0.953387\n",
              "depth        -0.034800  0.028224  1.000000  ... -0.025289 -0.029341  0.094924\n",
              "table        -0.100830  0.181618 -0.295779  ...  0.195344  0.183760  0.150929\n",
              "price        -0.306873  0.921591 -0.010647  ...  0.884435  0.865421  0.861249\n",
              "x            -0.405440  0.975094 -0.025289  ...  1.000000  0.974701  0.970772\n",
              "y            -0.395843  0.951722 -0.029341  ...  0.974701  1.000000  0.952006\n",
              "z            -0.399208  0.953387  0.094924  ...  0.970772  0.952006  1.000000\n",
              "\n",
              "[8 rows x 8 columns]"
            ]
          },
          "metadata": {},
          "execution_count": 5
        }
      ]
    },
    {
      "cell_type": "code",
      "metadata": {
        "colab": {
          "base_uri": "https://localhost:8080/"
        },
        "id": "JSSw6Z4H31DC",
        "outputId": "059abe14-d398-4729-8477-9c1d2d9ef5eb"
      },
      "source": [
        "diamonds['color'].value_counts()"
      ],
      "execution_count": null,
      "outputs": [
        {
          "output_type": "execute_result",
          "data": {
            "text/plain": [
              "G    11292\n",
              "E     9797\n",
              "F     9542\n",
              "H     8304\n",
              "D     6775\n",
              "I     5422\n",
              "J     2808\n",
              "Name: color, dtype: int64"
            ]
          },
          "metadata": {},
          "execution_count": 6
        }
      ]
    },
    {
      "cell_type": "code",
      "metadata": {
        "colab": {
          "base_uri": "https://localhost:8080/"
        },
        "id": "OYip1jrd4DDw",
        "outputId": "3658dd42-5166-4118-a14a-db1790d04b4f"
      },
      "source": [
        "diamonds['cut'].value_counts()"
      ],
      "execution_count": null,
      "outputs": [
        {
          "output_type": "execute_result",
          "data": {
            "text/plain": [
              "Ideal        21551\n",
              "Premium      13791\n",
              "Very Good    12082\n",
              "Good          4906\n",
              "Fair          1610\n",
              "Name: cut, dtype: int64"
            ]
          },
          "metadata": {},
          "execution_count": 7
        }
      ]
    },
    {
      "cell_type": "code",
      "metadata": {
        "colab": {
          "base_uri": "https://localhost:8080/"
        },
        "id": "hLURtryC4NpT",
        "outputId": "ced7fbb5-1117-4350-b76f-b353313171e7"
      },
      "source": [
        "diamonds['clarity'].value_counts()"
      ],
      "execution_count": null,
      "outputs": [
        {
          "output_type": "execute_result",
          "data": {
            "text/plain": [
              "SI1     13065\n",
              "VS2     12258\n",
              "SI2      9194\n",
              "VS1      8171\n",
              "VVS2     5066\n",
              "VVS1     3655\n",
              "IF       1790\n",
              "I1        741\n",
              "Name: clarity, dtype: int64"
            ]
          },
          "metadata": {},
          "execution_count": 8
        }
      ]
    },
    {
      "cell_type": "markdown",
      "metadata": {
        "id": "ElvUoRx26j4w"
      },
      "source": [
        "## data visualisation"
      ]
    },
    {
      "cell_type": "code",
      "metadata": {
        "colab": {
          "base_uri": "https://localhost:8080/",
          "height": 889
        },
        "id": "l8WK7H1x61wa",
        "outputId": "9dbdb963-7ede-4969-d515-697cae6ae58a"
      },
      "source": [
        "diamonds.hist(figsize=(12,12), color='deeppink')"
      ],
      "execution_count": null,
      "outputs": [
        {
          "output_type": "execute_result",
          "data": {
            "text/plain": [
              "array([[<matplotlib.axes._subplots.AxesSubplot object at 0x7f9d6c91e7d0>,\n",
              "        <matplotlib.axes._subplots.AxesSubplot object at 0x7f9d6c069a50>,\n",
              "        <matplotlib.axes._subplots.AxesSubplot object at 0x7f9d6c04a710>],\n",
              "       [<matplotlib.axes._subplots.AxesSubplot object at 0x7f9d6bfffd90>,\n",
              "        <matplotlib.axes._subplots.AxesSubplot object at 0x7f9d6bfc1450>,\n",
              "        <matplotlib.axes._subplots.AxesSubplot object at 0x7f9d6bf76ad0>],\n",
              "       [<matplotlib.axes._subplots.AxesSubplot object at 0x7f9d6bf3a210>,\n",
              "        <matplotlib.axes._subplots.AxesSubplot object at 0x7f9d6beef7d0>,\n",
              "        <matplotlib.axes._subplots.AxesSubplot object at 0x7f9d6beef810>]],\n",
              "      dtype=object)"
            ]
          },
          "metadata": {},
          "execution_count": 9
        },
        {
          "output_type": "display_data",
          "data": {
            "image/png": "[encoded data removed]",
            "text/plain": [
              "<Figure size 864x864 with 9 Axes>"
            ]
          },
          "metadata": {
            "needs_background": "light"
          }
        }
      ]
    },
    {
      "cell_type": "code",
      "metadata": {
        "colab": {
          "base_uri": "https://localhost:8080/",
          "height": 624
        },
        "id": "LpiN_PZP7sNa",
        "outputId": "1cc0e7d8-05dc-4406-c970-a74eb90f33db"
      },
      "source": [
        "corr = diamonds.corr()\n",
        "plt.figure(figsize=(10,10))\n",
        "plt.title('Correlation Map')\n",
        "sns.heatmap(corr, linewidth=3.1,annot=True)"
      ],
      "execution_count": null,
      "outputs": [
        {
          "output_type": "execute_result",
          "data": {
            "text/plain": [
              "<matplotlib.axes._subplots.AxesSubplot at 0x7f9d6bdc1950>"
            ]
          },
          "metadata": {},
          "execution_count": 10
        },
        {
          "output_type": "display_data",
          "data": {
            "image/png": "[encoded data removed]",
            "text/plain": [
              "<Figure size 720x720 with 2 Axes>"
            ]
          },
          "metadata": {
            "needs_background": "light"
          }
        }
      ]
    },
    {
      "cell_type": "code",
      "metadata": {
        "colab": {
          "base_uri": "https://localhost:8080/",
          "height": 404
        },
        "id": "UgTtXWOTEoiI",
        "outputId": "f9fee74f-dabb-4767-841b-c4dc7efd828b"
      },
      "source": [
        "plt.figure(figsize=(10,10))\n",
        "sns.displot(diamonds.price, kde = False , bins= 30, color='deeppink')"
      ],
      "execution_count": null,
      "outputs": [
        {
          "output_type": "execute_result",
          "data": {
            "text/plain": [
              "<seaborn.axisgrid.FacetGrid at 0x7f9d6046a510>"
            ]
          },
          "metadata": {},
          "execution_count": 29
        },
        {
          "output_type": "display_data",
          "data": {
            "text/plain": [
              "<Figure size 720x720 with 0 Axes>"
            ]
          },
          "metadata": {}
        },
        {
          "output_type": "display_data",
          "data": {
            "image/png": "[encoded data removed]",
            "text/plain": [
              "<Figure size 360x360 with 1 Axes>"
            ]
          },
          "metadata": {
            "needs_background": "light"
          }
        }
      ]
    },
    {
      "cell_type": "code",
      "metadata": {
        "colab": {
          "base_uri": "https://localhost:8080/",
          "height": 400
        },
        "id": "7J0Wg6V0H1Ks",
        "outputId": "43898bb5-36de-485e-87f9-71b3379b1173"
      },
      "source": [
        "sns.catplot(x='cut', data=diamonds , kind='count',aspect=2.5)"
      ],
      "execution_count": null,
      "outputs": [
        {
          "output_type": "execute_result",
          "data": {
            "text/plain": [
              "<seaborn.axisgrid.FacetGrid at 0x7f9d635a2290>"
            ]
          },
          "metadata": {},
          "execution_count": 12
        },
        {
          "output_type": "display_data",
          "data": {
            "image/png": "[encoded data removed]",
            "text/plain": [
              "<Figure size 900x360 with 1 Axes>"
            ]
          },
          "metadata": {
            "needs_background": "light"
          }
        }
      ]
    },
    {
      "cell_type": "code",
      "metadata": {
        "colab": {
          "base_uri": "https://localhost:8080/",
          "height": 400
        },
        "id": "JlYLkSaeJhv0",
        "outputId": "e4e12c4f-9162-493a-94b0-f199a872953e"
      },
      "source": [
        "sns.catplot(x='color', data=diamonds , kind='count',aspect=2.5)"
      ],
      "execution_count": null,
      "outputs": [
        {
          "output_type": "execute_result",
          "data": {
            "text/plain": [
              "<seaborn.axisgrid.FacetGrid at 0x7f9d63509690>"
            ]
          },
          "metadata": {},
          "execution_count": 13
        },
        {
          "output_type": "display_data",
          "data": {
            "image/png": "[encoded data removed]",
            "text/plain": [
              "<Figure size 900x360 with 1 Axes>"
            ]
          },
          "metadata": {
            "needs_background": "light"
          }
        }
      ]
    },
    {
      "cell_type": "code",
      "metadata": {
        "colab": {
          "base_uri": "https://localhost:8080/",
          "height": 400
        },
        "id": "n0cz94X1JnVG",
        "outputId": "053981f3-2e06-467b-a34a-11b10333bcf3"
      },
      "source": [
        "sns.catplot(x='clarity', data=diamonds , kind='count',aspect=2.5)"
      ],
      "execution_count": null,
      "outputs": [
        {
          "output_type": "execute_result",
          "data": {
            "text/plain": [
              "<seaborn.axisgrid.FacetGrid at 0x7f9d617b6b90>"
            ]
          },
          "metadata": {},
          "execution_count": 14
        },
        {
          "output_type": "display_data",
          "data": {
            "image/png": "[encoded data removed]",
            "text/plain": [
              "<Figure size 900x360 with 1 Axes>"
            ]
          },
          "metadata": {
            "needs_background": "light"
          }
        }
      ]
    },
    {
      "cell_type": "code",
      "metadata": {
        "colab": {
          "base_uri": "https://localhost:8080/",
          "height": 624
        },
        "id": "NuVgA-Rp_IBL",
        "outputId": "b29f1e7d-53b2-48a1-dbdd-626cfefcf915"
      },
      "source": [
        "plt.figure(figsize=(10,10))\n",
        "sns.scatterplot(data=diamonds, x='carat', y='price', color= 'deeppink')"
      ],
      "execution_count": null,
      "outputs": [
        {
          "output_type": "execute_result",
          "data": {
            "text/plain": [
              "<matplotlib.axes._subplots.AxesSubplot at 0x7f9d602f7190>"
            ]
          },
          "metadata": {},
          "execution_count": 30
        },
        {
          "output_type": "display_data",
          "data": {
            "image/png": "[encoded data removed]",
            "text/plain": [
              "<Figure size 720x720 with 1 Axes>"
            ]
          },
          "metadata": {
            "needs_background": "light"
          }
        }
      ]
    },
    {
      "cell_type": "markdown",
      "metadata": {
        "id": "FmrFwaLwJUhQ"
      },
      "source": [
        "## data cleaning "
      ]
    },
    {
      "cell_type": "code",
      "metadata": {
        "id": "MYQHP-64XJxW"
      },
      "source": [
        ""
      ],
      "execution_count": null,
      "outputs": []
    },
    {
      "cell_type": "code",
      "metadata": {
        "id": "t4bWN-khKEPQ"
      },
      "source": [
        "from sklearn.pipeline import Pipeline\n",
        "from sklearn.preprocessing import StandardScaler\n",
        "from sklearn.compose import ColumnTransformer\n",
        "from sklearn.preprocessing import OrdinalEncoder\n",
        "from sklearn.preprocessing import OneHotEncoder\n",
        "from sklearn.model_selection import train_test_split"
      ],
      "execution_count": null,
      "outputs": []
    },
    {
      "cell_type": "code",
      "metadata": {
        "id": "1jtD_rPpKq61"
      },
      "source": [
        "diamonds['volume'] = diamonds['x'] * diamonds['y'] * diamonds['z']\n",
        "#diamonds.head()"
      ],
      "execution_count": null,
      "outputs": []
    },
    {
      "cell_type": "code",
      "metadata": {
        "id": "JLMxT-F5LFOb"
      },
      "source": [
        "diamonds.drop(['x','y','z'], axis=1, inplace= True)"
      ],
      "execution_count": null,
      "outputs": []
    },
    {
      "cell_type": "code",
      "metadata": {
        "colab": {
          "base_uri": "https://localhost:8080/"
        },
        "id": "E9P4elIBqLic",
        "outputId": "816b69af-7f31-41b7-85b4-6527ab995539"
      },
      "source": [
        "df1 = diamonds.drop(\"Unnamed: 0\", axis = 1)\n",
        "for col in df1.select_dtypes(\"object\"):\n",
        "    print(col,len(df1[col].unique()), df1[col].unique())\n",
        "    print(\"\")"
      ],
      "execution_count": null,
      "outputs": [
        {
          "output_type": "stream",
          "text": [
            "cut 5 ['Ideal' 'Premium' 'Good' 'Very Good' 'Fair']\n",
            "\n",
            "color 7 ['E' 'I' 'J' 'H' 'F' 'G' 'D']\n",
            "\n",
            "clarity 8 ['SI2' 'SI1' 'VS1' 'VS2' 'VVS2' 'VVS1' 'I1' 'IF']\n",
            "\n"
          ],
          "name": "stdout"
        }
      ]
    },
    {
      "cell_type": "code",
      "metadata": {
        "colab": {
          "base_uri": "https://localhost:8080/"
        },
        "id": "cYEuLHLtqW-V",
        "outputId": "1b64aff6-e301-495d-a348-e187d399b656"
      },
      "source": [
        "# df2 = df1.copy()\n",
        "# df2[\"cut\"] = df2.replace({\"Fair\": 0, \"Good\": 1, \"Very Good\": 2, \"Premium\": 3, \"Ideal\": 4})\n",
        "\n",
        "# df2[\"clarity\"] = df2.replace({\"I1\": 0, \"SI2\": 1, \"SI1\": 2, \"VS2\": 3, \"VS1\": 4, \"VVS2\": 5, \"VVS1\": 6, \"IF\": 7})\n",
        "diamonds_labels = diamonds['price'].copy()\n",
        "diamonds = diamonds.drop([\"Unnamed: 0\",\"price\"], axis=1)\n",
        "diamonds_num = diamonds.drop(['cut','color', 'clarity'], axis=1)\n",
        "num_attributes = list(diamonds_num)\n",
        "cut_attribute = [\"cut\"]\n",
        "clarity_attribute = [\"clarity\"]\n",
        "color_attribute = [\"color\"]\n",
        "full_transformer= ColumnTransformer([\n",
        "                                  ('std_scaler', StandardScaler(),num_attributes),\n",
        "                                  ('ordinal_encoder_cut',OrdinalEncoder(categories=[['Fair', 'Good', 'Very Good', 'Premium', 'Ideal']]),cut_attribute),\n",
        "                                  ('ordinal_encoder_clarity', OrdinalEncoder(categories=[['I1', 'SI2', 'SI1', 'VS2', 'VS1', 'VVS2', 'VVS1', 'IF']]), clarity_attribute),\n",
        "                                  ('ordinal_encoder_color' , OrdinalEncoder(categories=[['D','E','F','G','H','I','J']] ), color_attribute)\n",
        "])\n",
        "diamonds_prepared = full_transformer.fit_transform(diamonds) \n",
        "diamonds_prepared[0:5]"
      ],
      "execution_count": null,
      "outputs": [
        {
          "output_type": "execute_result",
          "data": {
            "text/plain": [
              "array([[-1.19816781, -0.17409151, -1.09967199, -1.17129422,  4.        ,\n",
              "         1.        ,  1.        ],\n",
              "       [-1.24036129, -1.36073849,  1.58552871, -1.21853297,  3.        ,\n",
              "         2.        ,  1.        ],\n",
              "       [-1.19816781, -3.38501862,  3.37566251, -1.17289363,  1.        ,\n",
              "         4.        ,  1.        ],\n",
              "       [-1.07158736,  0.45413336,  0.24292836, -1.06237224,  3.        ,\n",
              "         3.        ,  5.        ],\n",
              "       [-1.02939387,  1.08235823,  0.24292836, -0.99600761,  1.        ,\n",
              "         1.        ,  6.        ]])"
            ]
          },
          "metadata": {},
          "execution_count": 72
        }
      ]
    },
    {
      "cell_type": "code",
      "metadata": {
        "colab": {
          "base_uri": "https://localhost:8080/",
          "height": 204
        },
        "id": "OucuqfQn3gHl",
        "outputId": "cf1e26da-ac42-4ca1-f9c0-3fc075286417"
      },
      "source": [
        "diamonds_prepared_df = pd.DataFrame(diamonds_prepared,\n",
        "                                    columns = num_attributes + cut_attribute + clarity_attribute + color_attribute)\n",
        "diamonds_prepared_df.head()"
      ],
      "execution_count": null,
      "outputs": [
        {
          "output_type": "execute_result",
          "data": {
            "text/html": [
              "<div>\n",
              "<style scoped>\n",
              "    .dataframe tbody tr th:only-of-type {\n",
              "        vertical-align: middle;\n",
              "    }\n",
              "\n",
              "    .dataframe tbody tr th {\n",
              "        vertical-align: top;\n",
              "    }\n",
              "\n",
              "    .dataframe thead th {\n",
              "        text-align: right;\n",
              "    }\n",
              "</style>\n",
              "<table border=\"1\" class=\"dataframe\">\n",
              "  <thead>\n",
              "    <tr style=\"text-align: right;\">\n",
              "      <th></th>\n",
              "      <th>carat</th>\n",
              "      <th>depth</th>\n",
              "      <th>table</th>\n",
              "      <th>volume</th>\n",
              "      <th>cut</th>\n",
              "      <th>clarity</th>\n",
              "      <th>color</th>\n",
              "    </tr>\n",
              "  </thead>\n",
              "  <tbody>\n",
              "    <tr>\n",
              "      <th>0</th>\n",
              "      <td>-1.198168</td>\n",
              "      <td>-0.174092</td>\n",
              "      <td>-1.099672</td>\n",
              "      <td>-1.171294</td>\n",
              "      <td>4.0</td>\n",
              "      <td>1.0</td>\n",
              "      <td>1.0</td>\n",
              "    </tr>\n",
              "    <tr>\n",
              "      <th>1</th>\n",
              "      <td>-1.240361</td>\n",
              "      <td>-1.360738</td>\n",
              "      <td>1.585529</td>\n",
              "      <td>-1.218533</td>\n",
              "      <td>3.0</td>\n",
              "      <td>2.0</td>\n",
              "      <td>1.0</td>\n",
              "    </tr>\n",
              "    <tr>\n",
              "      <th>2</th>\n",
              "      <td>-1.198168</td>\n",
              "      <td>-3.385019</td>\n",
              "      <td>3.375663</td>\n",
              "      <td>-1.172894</td>\n",
              "      <td>1.0</td>\n",
              "      <td>4.0</td>\n",
              "      <td>1.0</td>\n",
              "    </tr>\n",
              "    <tr>\n",
              "      <th>3</th>\n",
              "      <td>-1.071587</td>\n",
              "      <td>0.454133</td>\n",
              "      <td>0.242928</td>\n",
              "      <td>-1.062372</td>\n",
              "      <td>3.0</td>\n",
              "      <td>3.0</td>\n",
              "      <td>5.0</td>\n",
              "    </tr>\n",
              "    <tr>\n",
              "      <th>4</th>\n",
              "      <td>-1.029394</td>\n",
              "      <td>1.082358</td>\n",
              "      <td>0.242928</td>\n",
              "      <td>-0.996008</td>\n",
              "      <td>1.0</td>\n",
              "      <td>1.0</td>\n",
              "      <td>6.0</td>\n",
              "    </tr>\n",
              "  </tbody>\n",
              "</table>\n",
              "</div>"
            ],
            "text/plain": [
              "      carat     depth     table    volume  cut  clarity  color\n",
              "0 -1.198168 -0.174092 -1.099672 -1.171294  4.0      1.0    1.0\n",
              "1 -1.240361 -1.360738  1.585529 -1.218533  3.0      2.0    1.0\n",
              "2 -1.198168 -3.385019  3.375663 -1.172894  1.0      4.0    1.0\n",
              "3 -1.071587  0.454133  0.242928 -1.062372  3.0      3.0    5.0\n",
              "4 -1.029394  1.082358  0.242928 -0.996008  1.0      1.0    6.0"
            ]
          },
          "metadata": {},
          "execution_count": 73
        }
      ]
    },
    {
      "cell_type": "markdown",
      "metadata": {
        "id": "9MdX9i5Ift2P"
      },
      "source": [
        "Remove outliers"
      ]
    },
    {
      "cell_type": "code",
      "metadata": {
        "id": "zwuq1eCsgszy"
      },
      "source": [
        "import scipy.stats as stats "
      ],
      "execution_count": null,
      "outputs": []
    },
    {
      "cell_type": "code",
      "metadata": {
        "colab": {
          "base_uri": "https://localhost:8080/"
        },
        "id": "7RnemJIDgy_p",
        "outputId": "774fee7f-a45e-4a12-c897-96b81e473ec2"
      },
      "source": [
        "# df3 = df2.drop([\"color\", \"clarity\", \"cut\"],axis=1)\n",
        "\n",
        "z_scores = stats.zscore(diamonds_prepared_df)\n",
        "\n",
        "abs_z_scores = np.abs(z_scores)\n",
        "filtered_entries = (abs_z_scores < 3).all(axis=1)\n",
        "filtered_entries\n",
        "diamonds_prepared_df = diamonds_prepared_df[filtered_entries]\n",
        "diamonds_labels = diamonds_labels[filtered_entries]\n",
        "diamonds_prepared_df.info()"
      ],
      "execution_count": null,
      "outputs": [
        {
          "output_type": "stream",
          "text": [
            "<class 'pandas.core.frame.DataFrame'>\n",
            "Int64Index: 52550 entries, 0 to 53939\n",
            "Data columns (total 7 columns):\n",
            " #   Column   Non-Null Count  Dtype  \n",
            "---  ------   --------------  -----  \n",
            " 0   carat    52550 non-null  float64\n",
            " 1   depth    52550 non-null  float64\n",
            " 2   table    52550 non-null  float64\n",
            " 3   volume   52550 non-null  float64\n",
            " 4   cut      52550 non-null  float64\n",
            " 5   clarity  52550 non-null  float64\n",
            " 6   color    52550 non-null  float64\n",
            "dtypes: float64(7)\n",
            "memory usage: 3.2 MB\n"
          ],
          "name": "stdout"
        }
      ]
    },
    {
      "cell_type": "code",
      "metadata": {
        "id": "mUxpTGiwpkec"
      },
      "source": [
        "# X = diamonds_prepared_df.drop([\"price\"], axis = 1) \n",
        "# y = diamonds_prepared_df[\"price\"]\n",
        "X = diamonds_prepared_df\n",
        "y = diamonds_labels\n",
        "# sc = StandardScaler()\n",
        "# X = sc.fit_transform(X)\n",
        "\n",
        "X_train, X_test, y_train, y_test = train_test_split(X,y, test_size = 0.3, random_state = 45)\n"
      ],
      "execution_count": null,
      "outputs": []
    },
    {
      "cell_type": "markdown",
      "metadata": {
        "id": "qfGw_JE0vXWS"
      },
      "source": [
        "Select and train a model\n"
      ]
    },
    {
      "cell_type": "code",
      "metadata": {
        "id": "pb82EpnBiqWL"
      },
      "source": [
        "from sklearn.metrics import mean_squared_error, mean_absolute_error\n",
        "def evaluate(true,predicted,message = \"Test Set\"):\n",
        "    MSE = mean_squared_error(true,predicted,squared = True)\n",
        "    MAE = mean_absolute_error(true,predicted)\n",
        "    RMSE = mean_squared_error(true,predicted,squared = False)\n",
        "    \n",
        "    print(message)\n",
        "    print(\"MSE:\", MSE)\n",
        "    print(\"MAE:\", MAE)\n",
        "    print(\"RMSE:\", RMSE)\n",
        "    print()\n",
        "\n",
        "def display_scores(scores,model):\n",
        "  print(f\"     {model} validation \")\n",
        "  print(\"Scores:\", scores)\n",
        "  print(\"Root Mean squared error:\", scores.mean())\n",
        "  print(\"Standard deviation:\", scores.std())\n",
        "  print()"
      ],
      "execution_count": null,
      "outputs": []
    },
    {
      "cell_type": "markdown",
      "metadata": {
        "id": "GGmu8wAAjMUo"
      },
      "source": [
        "# Train Models"
      ]
    },
    {
      "cell_type": "code",
      "metadata": {
        "id": "fFLpDHa6jMtX"
      },
      "source": [
        "from sklearn import svm\n",
        "from sklearn.ensemble import RandomForestRegressor\n",
        "from sklearn.neighbors import KNeighborsClassifier\n",
        "from sklearn.linear_model import LinearRegression\n",
        "from sklearn.tree import DecisionTreeRegressor\n",
        "from sklearn.model_selection import cross_val_score\n",
        "\n",
        "SVM = svm.SVR().fit(X_train, y_train) \n",
        "\n",
        "RFReg = RandomForestRegressor(random_state = 0).fit(X_train, y_train)\n",
        "\n",
        "linreg = LinearRegression()\n",
        "linreg_model = linreg.fit(X_train, y_train)\n",
        "\n",
        "regress_dtree= DecisionTreeRegressor(random_state=1)\n",
        "dtree_model = regress_dtree.fit(X_train,y_train)\n",
        "\n",
        "knn = KNeighborsClassifier(n_neighbors=1)\n",
        "knn_model = knn.fit(X_train,y_train)"
      ],
      "execution_count": null,
      "outputs": []
    },
    {
      "cell_type": "code",
      "metadata": {
        "id": "fpOw6owQyyPm",
        "colab": {
          "base_uri": "https://localhost:8080/"
        },
        "outputId": "a26339c2-3b86-4431-b3ba-3cabd347445a"
      },
      "source": [
        "print(\"Random Forest Regressor\") \n",
        "predicted_y_train = RFReg.predict(X_train)\n",
        "evaluate(y_train,predicted_y_train,\"    Training Set\")\n",
        "\n",
        "print(\"Support Vector Machine\") \n",
        "predicted_y_train = SVM.predict(X_train)\n",
        "evaluate(y_train,predicted_y_train,\"    Training Set\")\n",
        "\n",
        "print(\"Linear Regression\") \n",
        "predicted_y_train = linreg.predict(X_train)\n",
        "evaluate(y_train,predicted_y_train,\"    Training Set\")\n",
        "\n",
        "print(\"Decision Tree Regression\")\n",
        "predicted_y_train = dtree_model.predict(X_train)\n",
        "evaluate(y_train,predicted_y_train,\"    Training Set\")\n",
        "\n",
        "print(\"K Nearset Neighbor\")\n",
        "predicted_y_train_k = knn_model.predict(X_train)\n",
        "evaluate(y_train,predicted_y_train,\"    Training Set\")"
      ],
      "execution_count": null,
      "outputs": [
        {
          "output_type": "stream",
          "text": [
            "Random Forest Regressor\n",
            "    Training Set\n",
            "MSE: 38860.6465913013\n",
            "MAE: 103.60018419785929\n",
            "RMSE: 197.13103913717217\n",
            "\n",
            "Support Vector Machine\n",
            "    Training Set\n",
            "MSE: 7919203.855097151\n",
            "MAE: 1513.5730266423752\n",
            "RMSE: 2814.1080034528086\n",
            "\n",
            "Linear Regression\n",
            "    Training Set\n",
            "MSE: 1370809.8232883147\n",
            "MAE: 844.0006271518904\n",
            "RMSE: 1170.8158793287332\n",
            "\n",
            "Decision Tree Regression\n",
            "    Training Set\n",
            "MSE: 982.2888179058492\n",
            "MAE: 12.078555570658331\n",
            "RMSE: 31.341487168062866\n",
            "\n",
            "K Nearset Neighbor\n",
            "    Training Set\n",
            "MSE: 982.2888179058492\n",
            "MAE: 12.078555570658331\n",
            "RMSE: 31.341487168062866\n",
            "\n"
          ],
          "name": "stdout"
        }
      ]
    },
    {
      "cell_type": "markdown",
      "metadata": {
        "id": "4V6__mQWfPLA"
      },
      "source": [
        "# Validation"
      ]
    },
    {
      "cell_type": "code",
      "metadata": {
        "colab": {
          "base_uri": "https://localhost:8080/"
        },
        "id": "QFpx665xfNgP",
        "outputId": "395d5db8-f94f-46dc-b663-e4a262f8a93b"
      },
      "source": [
        "# validate Random Forest Regressor\n",
        "RF_scores = cross_val_score(RFReg, X_train, y_train, scoring=\"neg_mean_squared_error\", cv=10)\n",
        "RF_rmse_scores = np.sqrt(-RF_scores)\n",
        "display_scores(RF_rmse_scores,\"Random Forest Regressor\")\n",
        "\n",
        "# validate Support Vector Machine\n",
        "SVM_scores = cross_val_score(SVM, X_train, y_train, scoring=\"neg_mean_squared_error\", cv=10)\n",
        "svm_rmse_scores = np.sqrt(-SVM_scores)\n",
        "display_scores(svm_rmse_scores,\"Support Vector Machine\")\n",
        "\n",
        "# validate Linear Regression\n",
        "linr_scores = cross_val_score(linreg, X_train, y_train, scoring=\"neg_mean_squared_error\", cv=10)\n",
        "linr_rmse_scores = np.sqrt(-linr_scores)\n",
        "display_scores(linr_rmse_scores,\"Linear Regression\")\n",
        "\n",
        "# validate Decision Tree Regression\n",
        "dtree_scores = cross_val_score(regress_dtree, X_train, y_train, scoring=\"neg_mean_squared_error\", cv=10)\n",
        "dtree_rmse_scores = np.sqrt(-dtree_scores)\n",
        "display_scores(dtree_rmse_scores,\"Decision Tree Regression\")\n",
        "\n",
        "# validate K Nearset Neighbor\n",
        "knn_scores = cross_val_score(knn, X_train, y_train, scoring=\"neg_mean_squared_error\", cv=10)\n",
        "knn_rmse_scores = np.sqrt(-knn_scores)\n",
        "display_scores(knn_rmse_scores,\"K Nearset Neighbor\")"
      ],
      "execution_count": null,
      "outputs": [
        {
          "output_type": "stream",
          "text": [
            "     Random Forest Regressor validation \n",
            "Scores: [537.20652183 570.32599181 540.6624197  519.55239979 511.68668253\n",
            " 503.79082675 513.80482355 502.0680367  534.77460966 527.03038218]\n",
            "Root Mean squared error: 526.0902694488013\n",
            "Standard deviation: 19.607374599866677\n",
            "\n",
            "     Support Vector Machine validation \n",
            "Scores: [2817.35472838 2951.4053786  2945.38336013 2982.24277767 2983.84544058\n",
            " 2989.76992557 2886.11078919 2748.14549017 2909.65882854 2869.81156317]\n",
            "Root Mean squared error: 2908.3728281989843\n",
            "Standard deviation: 75.4594392163723\n",
            "\n",
            "     Linear Regression validation \n",
            "Scores: [1151.11932898 1153.53428977 1196.70900618 1181.22629638 1181.80016306\n",
            " 1203.97282095 1176.22731581 1118.83678608 1190.45535844 1159.16991238]\n",
            "Root Mean squared error: 1171.3051278035296\n",
            "Standard deviation: 24.362941790468614\n",
            "\n",
            "     Decision Tree Regression validation \n",
            "Scores: [713.59554472 752.88090501 736.90579171 687.40406822 679.74126513\n",
            " 698.03477738 676.6136876  709.26715283 712.33915194 670.43677223]\n",
            "Root Mean squared error: 703.7219116757935\n",
            "Standard deviation: 25.37068173752465\n",
            "\n"
          ],
          "name": "stdout"
        },
        {
          "output_type": "stream",
          "text": [
            "/usr/local/lib/python3.7/dist-packages/sklearn/model_selection/_split.py:667: UserWarning: The least populated class in y has only 1 members, which is less than n_splits=10.\n",
            "  % (min_groups, self.n_splits)), UserWarning)\n"
          ],
          "name": "stderr"
        },
        {
          "output_type": "stream",
          "text": [
            "     K Nearset Neighbor validation \n",
            "Scores: [859.08252087 900.83453743 913.30692873 842.98447556 901.39916188\n",
            " 874.63671477 826.35446462 882.79478776 852.55876804 850.4899458 ]\n",
            "Root Mean squared error: 870.4442305457203\n",
            "Standard deviation: 27.26572923721974\n",
            "\n"
          ],
          "name": "stdout"
        }
      ]
    },
    {
      "cell_type": "markdown",
      "metadata": {
        "id": "HFc9yHoFeI6z"
      },
      "source": [
        "## Testing"
      ]
    },
    {
      "cell_type": "code",
      "metadata": {
        "colab": {
          "base_uri": "https://localhost:8080/"
        },
        "id": "mMZzZqHyeH0X",
        "outputId": "2958a134-596d-41cb-9ff9-57a837caf1a4"
      },
      "source": [
        "print(\"Random Forest Regressor\") \n",
        "predicted_y_test = RFReg.predict(X_test)\n",
        "evaluate(y_test,predicted_y_test,\"    Test Set\")\n",
        "\n",
        "print(\"Support Vector Machine\") \n",
        "predicted_y_test = SVM.predict(X_test)\n",
        "evaluate(y_test,predicted_y_test,\"    Test Set\")\n",
        "\n",
        "print(\"Linear Regression\") \n",
        "predicted_y_test = linreg.predict(X_test)\n",
        "evaluate(y_test,predicted_y_test,\"    Test Set\")\n",
        "\n",
        "print(\"Decision Tree Regression\")\n",
        "predicted_y_test = dtree_model.predict(X_test)\n",
        "evaluate(y_test,predicted_y_test,\"    Test Set\")\n",
        "\n",
        "print(\"K Nearset Neighbor\")\n",
        "predicted_y_test_k = knn_model.predict(X_test)\n",
        "evaluate(y_test,predicted_y_test,\"    Test Set\")\n"
      ],
      "execution_count": null,
      "outputs": [
        {
          "output_type": "stream",
          "text": [
            "Random Forest Regressor\n",
            "    Test Set\n",
            "MSE: 258647.5522164276\n",
            "MAE: 264.50487621010984\n",
            "RMSE: 508.57403808730504\n",
            "\n",
            "Support Vector Machine\n",
            "    Test Set\n",
            "MSE: 7853061.9716119645\n",
            "MAE: 1509.3788490749012\n",
            "RMSE: 2802.3315242154995\n",
            "\n",
            "Linear Regression\n",
            "    Test Set\n",
            "MSE: 1359022.3745276358\n",
            "MAE: 840.6513699081141\n",
            "RMSE: 1165.771150152394\n",
            "\n",
            "Decision Tree Regression\n",
            "    Test Set\n",
            "MSE: 465941.1028138985\n",
            "MAE: 341.63940162807904\n",
            "RMSE: 682.5987861210263\n",
            "\n",
            "K Nearset Neighbor\n",
            "    Test Set\n",
            "MSE: 465941.1028138985\n",
            "MAE: 341.63940162807904\n",
            "RMSE: 682.5987861210263\n",
            "\n"
          ],
          "name": "stdout"
        }
      ]
    },
    {
      "cell_type": "markdown",
      "metadata": {
        "id": "FXl2Zx3agYq8"
      },
      "source": [
        "# Accuracy"
      ]
    },
    {
      "cell_type": "code",
      "metadata": {
        "colab": {
          "base_uri": "https://localhost:8080/"
        },
        "id": "uk_FbGNXjiSE",
        "outputId": "a373403a-2b2c-4fc4-aa70-ab5608ccf641"
      },
      "source": [
        "print(\"Support Vector Machine\")\n",
        "print(\"Testing Accuracy:\",(SVM.score(X_test, y_test)))\n",
        "print(\"Training Accuracy:\",(SVM.score(X_train, y_train)))\n",
        "print(\"\\n\")\n",
        "\n",
        "print(\"Random Forest Regressor\") \n",
        "print(\"Testing Accuracy:\",(RFReg.score(X_test, y_test)))\n",
        "print(\"Training Accuracy:\",(RFReg.score(X_train, y_train)))\n",
        "print(\"\\n\")\n",
        "\n",
        "print(\"Linear Regression\") \n",
        "print(\"Testing Accuracy:\",(linreg_model.score(X_test, y_test)))\n",
        "print(\"Training Accuracy:\",(linreg_model.score(X_train, y_train)))\n",
        "print(\"\\n\")\n",
        "\n",
        "print(\"Decision Tree Regression\")\n",
        "print(\"Testing Accuracy:\",(dtree_model.score(X_test, y_test)))\n",
        "print(\"Training Accuracy:\",(dtree_model.score(X_train, y_train)))\n",
        "print(\"\\n\")\n",
        "\n",
        "print(\"K Nearset Neighbor\")\n",
        "print(\"Testing Accuracy:\",(knn_model.score(X_test, y_test)))\n",
        "print(\"Training Accuracy:\",(knn_model.score(X_train, y_train)))\n",
        "print(\"\\n\")"
      ],
      "execution_count": null,
      "outputs": [
        {
          "output_type": "stream",
          "text": [
            "Support Vector Machine\n",
            "Testing Accuracy: 0.46796404669887937\n",
            "Training Accuracy: 0.4720301217513977\n",
            "\n",
            "\n",
            "Random Forest Regressor\n",
            "Testing Accuracy: 0.9824769246047065\n",
            "Training Accuracy: 0.9974091775859177\n",
            "\n",
            "\n",
            "Linear Regression\n",
            "Testing Accuracy: 0.9079277908154664\n",
            "Training Accuracy: 0.9086087050230833\n",
            "\n",
            "\n",
            "Decision Tree Regression\n",
            "Testing Accuracy: 0.9684330239957494\n",
            "Training Accuracy: 0.9999345112315475\n",
            "\n",
            "\n",
            "K Nearset Neighbor\n",
            "Testing Accuracy: 0.031525531240088805\n",
            "Training Accuracy: 0.911376919940193\n",
            "\n",
            "\n"
          ],
          "name": "stdout"
        }
      ]
    },
    {
      "cell_type": "markdown",
      "metadata": {
        "id": "HlSNapduVYql"
      },
      "source": [
        "# Fine Tune\n"
      ]
    },
    {
      "cell_type": "code",
      "metadata": {
        "colab": {
          "base_uri": "https://localhost:8080/"
        },
        "id": "OOeVfEZLtA1X",
        "outputId": "c2578c31-63bc-4225-9278-06eb31a1ac34"
      },
      "source": [
        "from sklearn.model_selection import GridSearchCV\n",
        "\n",
        "param_grid = [\n",
        "    {'n_estimators': [3, 10, 30], 'max_features': [2, 4, 6, 8]},\n",
        "    {'bootstrap': [False], 'n_estimators': [3, 10], 'max_features': [2, 3, 4]}\n",
        "    ]\n",
        "forest_reg = RandomForestRegressor()\n",
        "grid_search = GridSearchCV(forest_reg, param_grid, cv=5, return_train_score=True)\n",
        "grid_search.fit(X_train,y_train)"
      ],
      "execution_count": null,
      "outputs": [
        {
          "output_type": "stream",
          "text": [
            "/usr/local/lib/python3.7/dist-packages/sklearn/model_selection/_validation.py:536: FitFailedWarning: Estimator fit failed. The score on this train-test partition for these parameters will be set to nan. Details: \n",
            "ValueError: max_features must be in (0, n_features]\n",
            "\n",
            "  FitFailedWarning)\n",
            "/usr/local/lib/python3.7/dist-packages/sklearn/model_selection/_validation.py:536: FitFailedWarning: Estimator fit failed. The score on this train-test partition for these parameters will be set to nan. Details: \n",
            "ValueError: max_features must be in (0, n_features]\n",
            "\n",
            "  FitFailedWarning)\n",
            "/usr/local/lib/python3.7/dist-packages/sklearn/model_selection/_validation.py:536: FitFailedWarning: Estimator fit failed. The score on this train-test partition for these parameters will be set to nan. Details: \n",
            "ValueError: max_features must be in (0, n_features]\n",
            "\n",
            "  FitFailedWarning)\n",
            "/usr/local/lib/python3.7/dist-packages/sklearn/model_selection/_validation.py:536: FitFailedWarning: Estimator fit failed. The score on this train-test partition for these parameters will be set to nan. Details: \n",
            "ValueError: max_features must be in (0, n_features]\n",
            "\n",
            "  FitFailedWarning)\n",
            "/usr/local/lib/python3.7/dist-packages/sklearn/model_selection/_validation.py:536: FitFailedWarning: Estimator fit failed. The score on this train-test partition for these parameters will be set to nan. Details: \n",
            "ValueError: max_features must be in (0, n_features]\n",
            "\n",
            "  FitFailedWarning)\n",
            "/usr/local/lib/python3.7/dist-packages/sklearn/model_selection/_validation.py:536: FitFailedWarning: Estimator fit failed. The score on this train-test partition for these parameters will be set to nan. Details: \n",
            "ValueError: max_features must be in (0, n_features]\n",
            "\n",
            "  FitFailedWarning)\n",
            "/usr/local/lib/python3.7/dist-packages/sklearn/model_selection/_validation.py:536: FitFailedWarning: Estimator fit failed. The score on this train-test partition for these parameters will be set to nan. Details: \n",
            "ValueError: max_features must be in (0, n_features]\n",
            "\n",
            "  FitFailedWarning)\n",
            "/usr/local/lib/python3.7/dist-packages/sklearn/model_selection/_validation.py:536: FitFailedWarning: Estimator fit failed. The score on this train-test partition for these parameters will be set to nan. Details: \n",
            "ValueError: max_features must be in (0, n_features]\n",
            "\n",
            "  FitFailedWarning)\n",
            "/usr/local/lib/python3.7/dist-packages/sklearn/model_selection/_validation.py:536: FitFailedWarning: Estimator fit failed. The score on this train-test partition for these parameters will be set to nan. Details: \n",
            "ValueError: max_features must be in (0, n_features]\n",
            "\n",
            "  FitFailedWarning)\n",
            "/usr/local/lib/python3.7/dist-packages/sklearn/model_selection/_validation.py:536: FitFailedWarning: Estimator fit failed. The score on this train-test partition for these parameters will be set to nan. Details: \n",
            "ValueError: max_features must be in (0, n_features]\n",
            "\n",
            "  FitFailedWarning)\n",
            "/usr/local/lib/python3.7/dist-packages/sklearn/model_selection/_validation.py:536: FitFailedWarning: Estimator fit failed. The score on this train-test partition for these parameters will be set to nan. Details: \n",
            "ValueError: max_features must be in (0, n_features]\n",
            "\n",
            "  FitFailedWarning)\n",
            "/usr/local/lib/python3.7/dist-packages/sklearn/model_selection/_validation.py:536: FitFailedWarning: Estimator fit failed. The score on this train-test partition for these parameters will be set to nan. Details: \n",
            "ValueError: max_features must be in (0, n_features]\n",
            "\n",
            "  FitFailedWarning)\n",
            "/usr/local/lib/python3.7/dist-packages/sklearn/model_selection/_validation.py:536: FitFailedWarning: Estimator fit failed. The score on this train-test partition for these parameters will be set to nan. Details: \n",
            "ValueError: max_features must be in (0, n_features]\n",
            "\n",
            "  FitFailedWarning)\n",
            "/usr/local/lib/python3.7/dist-packages/sklearn/model_selection/_validation.py:536: FitFailedWarning: Estimator fit failed. The score on this train-test partition for these parameters will be set to nan. Details: \n",
            "ValueError: max_features must be in (0, n_features]\n",
            "\n",
            "  FitFailedWarning)\n",
            "/usr/local/lib/python3.7/dist-packages/sklearn/model_selection/_validation.py:536: FitFailedWarning: Estimator fit failed. The score on this train-test partition for these parameters will be set to nan. Details: \n",
            "ValueError: max_features must be in (0, n_features]\n",
            "\n",
            "  FitFailedWarning)\n"
          ],
          "name": "stderr"
        },
        {
          "output_type": "execute_result",
          "data": {
            "text/plain": [
              "GridSearchCV(cv=5, error_score=nan,\n",
              "             estimator=RandomForestRegressor(bootstrap=True, ccp_alpha=0.0,\n",
              "                                             criterion='mse', max_depth=None,\n",
              "                                             max_features='auto',\n",
              "                                             max_leaf_nodes=None,\n",
              "                                             max_samples=None,\n",
              "                                             min_impurity_decrease=0.0,\n",
              "                                             min_impurity_split=None,\n",
              "                                             min_samples_leaf=1,\n",
              "                                             min_samples_split=2,\n",
              "                                             min_weight_fraction_leaf=0.0,\n",
              "                                             n_estimators=100, n_jobs=None,\n",
              "                                             oob_score=False, random_state=None,\n",
              "                                             verbose=0, warm_start=False),\n",
              "             iid='deprecated', n_jobs=None,\n",
              "             param_grid=[{'max_features': [2, 4, 6, 8],\n",
              "                          'n_estimators': [3, 10, 30]},\n",
              "                         {'bootstrap': [False], 'max_features': [2, 3, 4],\n",
              "                          'n_estimators': [3, 10]}],\n",
              "             pre_dispatch='2*n_jobs', refit=True, return_train_score=True,\n",
              "             scoring=None, verbose=0)"
            ]
          },
          "metadata": {},
          "execution_count": 83
        }
      ]
    },
    {
      "cell_type": "code",
      "metadata": {
        "id": "fGo1tVeeVL_z",
        "colab": {
          "base_uri": "https://localhost:8080/",
          "height": 1000
        },
        "outputId": "4b855f41-9a79-494e-e27f-5dabce642835"
      },
      "source": [
        "pd.DataFrame(grid_search.cv_results_)"
      ],
      "execution_count": null,
      "outputs": [
        {
          "output_type": "execute_result",
          "data": {
            "text/html": [
              "<div>\n",
              "<style scoped>\n",
              "    .dataframe tbody tr th:only-of-type {\n",
              "        vertical-align: middle;\n",
              "    }\n",
              "\n",
              "    .dataframe tbody tr th {\n",
              "        vertical-align: top;\n",
              "    }\n",
              "\n",
              "    .dataframe thead th {\n",
              "        text-align: right;\n",
              "    }\n",
              "</style>\n",
              "<table border=\"1\" class=\"dataframe\">\n",
              "  <thead>\n",
              "    <tr style=\"text-align: right;\">\n",
              "      <th></th>\n",
              "      <th>mean_fit_time</th>\n",
              "      <th>std_fit_time</th>\n",
              "      <th>mean_score_time</th>\n",
              "      <th>std_score_time</th>\n",
              "      <th>param_max_features</th>\n",
              "      <th>param_n_estimators</th>\n",
              "      <th>param_bootstrap</th>\n",
              "      <th>params</th>\n",
              "      <th>split0_test_score</th>\n",
              "      <th>split1_test_score</th>\n",
              "      <th>split2_test_score</th>\n",
              "      <th>split3_test_score</th>\n",
              "      <th>split4_test_score</th>\n",
              "      <th>mean_test_score</th>\n",
              "      <th>std_test_score</th>\n",
              "      <th>rank_test_score</th>\n",
              "      <th>split0_train_score</th>\n",
              "      <th>split1_train_score</th>\n",
              "      <th>split2_train_score</th>\n",
              "      <th>split3_train_score</th>\n",
              "      <th>split4_train_score</th>\n",
              "      <th>mean_train_score</th>\n",
              "      <th>std_train_score</th>\n",
              "    </tr>\n",
              "  </thead>\n",
              "  <tbody>\n",
              "    <tr>\n",
              "      <th>0</th>\n",
              "      <td>0.139166</td>\n",
              "      <td>0.005747</td>\n",
              "      <td>0.010971</td>\n",
              "      <td>0.000979</td>\n",
              "      <td>2</td>\n",
              "      <td>3</td>\n",
              "      <td>NaN</td>\n",
              "      <td>{'max_features': 2, 'n_estimators': 3}</td>\n",
              "      <td>0.965348</td>\n",
              "      <td>0.967813</td>\n",
              "      <td>0.969800</td>\n",
              "      <td>0.968204</td>\n",
              "      <td>0.965395</td>\n",
              "      <td>0.967312</td>\n",
              "      <td>0.001719</td>\n",
              "      <td>15</td>\n",
              "      <td>0.990811</td>\n",
              "      <td>0.990929</td>\n",
              "      <td>0.991486</td>\n",
              "      <td>0.990752</td>\n",
              "      <td>0.991425</td>\n",
              "      <td>0.991081</td>\n",
              "      <td>3.119477e-04</td>\n",
              "    </tr>\n",
              "    <tr>\n",
              "      <th>1</th>\n",
              "      <td>0.449622</td>\n",
              "      <td>0.010075</td>\n",
              "      <td>0.033278</td>\n",
              "      <td>0.003140</td>\n",
              "      <td>2</td>\n",
              "      <td>10</td>\n",
              "      <td>NaN</td>\n",
              "      <td>{'max_features': 2, 'n_estimators': 10}</td>\n",
              "      <td>0.973707</td>\n",
              "      <td>0.976167</td>\n",
              "      <td>0.977712</td>\n",
              "      <td>0.976670</td>\n",
              "      <td>0.975289</td>\n",
              "      <td>0.975909</td>\n",
              "      <td>0.001351</td>\n",
              "      <td>9</td>\n",
              "      <td>0.995476</td>\n",
              "      <td>0.995271</td>\n",
              "      <td>0.995441</td>\n",
              "      <td>0.995531</td>\n",
              "      <td>0.995479</td>\n",
              "      <td>0.995439</td>\n",
              "      <td>8.902808e-05</td>\n",
              "    </tr>\n",
              "    <tr>\n",
              "      <th>2</th>\n",
              "      <td>1.315687</td>\n",
              "      <td>0.019619</td>\n",
              "      <td>0.092361</td>\n",
              "      <td>0.006146</td>\n",
              "      <td>2</td>\n",
              "      <td>30</td>\n",
              "      <td>NaN</td>\n",
              "      <td>{'max_features': 2, 'n_estimators': 30}</td>\n",
              "      <td>0.977626</td>\n",
              "      <td>0.978608</td>\n",
              "      <td>0.980794</td>\n",
              "      <td>0.979558</td>\n",
              "      <td>0.978581</td>\n",
              "      <td>0.979033</td>\n",
              "      <td>0.001072</td>\n",
              "      <td>4</td>\n",
              "      <td>0.996872</td>\n",
              "      <td>0.996699</td>\n",
              "      <td>0.996671</td>\n",
              "      <td>0.996709</td>\n",
              "      <td>0.996877</td>\n",
              "      <td>0.996766</td>\n",
              "      <td>8.978711e-05</td>\n",
              "    </tr>\n",
              "    <tr>\n",
              "      <th>3</th>\n",
              "      <td>0.209192</td>\n",
              "      <td>0.007092</td>\n",
              "      <td>0.010874</td>\n",
              "      <td>0.000764</td>\n",
              "      <td>4</td>\n",
              "      <td>3</td>\n",
              "      <td>NaN</td>\n",
              "      <td>{'max_features': 4, 'n_estimators': 3}</td>\n",
              "      <td>0.972819</td>\n",
              "      <td>0.973806</td>\n",
              "      <td>0.977256</td>\n",
              "      <td>0.974684</td>\n",
              "      <td>0.974597</td>\n",
              "      <td>0.974632</td>\n",
              "      <td>0.001474</td>\n",
              "      <td>12</td>\n",
              "      <td>0.993942</td>\n",
              "      <td>0.993527</td>\n",
              "      <td>0.993513</td>\n",
              "      <td>0.993694</td>\n",
              "      <td>0.993629</td>\n",
              "      <td>0.993661</td>\n",
              "      <td>1.555604e-04</td>\n",
              "    </tr>\n",
              "    <tr>\n",
              "      <th>4</th>\n",
              "      <td>0.692272</td>\n",
              "      <td>0.010519</td>\n",
              "      <td>0.031108</td>\n",
              "      <td>0.001786</td>\n",
              "      <td>4</td>\n",
              "      <td>10</td>\n",
              "      <td>NaN</td>\n",
              "      <td>{'max_features': 4, 'n_estimators': 10}</td>\n",
              "      <td>0.976696</td>\n",
              "      <td>0.979622</td>\n",
              "      <td>0.980244</td>\n",
              "      <td>0.979934</td>\n",
              "      <td>0.978203</td>\n",
              "      <td>0.978940</td>\n",
              "      <td>0.001322</td>\n",
              "      <td>5</td>\n",
              "      <td>0.996304</td>\n",
              "      <td>0.996318</td>\n",
              "      <td>0.996117</td>\n",
              "      <td>0.996214</td>\n",
              "      <td>0.996330</td>\n",
              "      <td>0.996257</td>\n",
              "      <td>8.104567e-05</td>\n",
              "    </tr>\n",
              "    <tr>\n",
              "      <th>5</th>\n",
              "      <td>2.043274</td>\n",
              "      <td>0.007490</td>\n",
              "      <td>0.092619</td>\n",
              "      <td>0.008575</td>\n",
              "      <td>4</td>\n",
              "      <td>30</td>\n",
              "      <td>NaN</td>\n",
              "      <td>{'max_features': 4, 'n_estimators': 30}</td>\n",
              "      <td>0.978798</td>\n",
              "      <td>0.980980</td>\n",
              "      <td>0.982662</td>\n",
              "      <td>0.982150</td>\n",
              "      <td>0.980343</td>\n",
              "      <td>0.980987</td>\n",
              "      <td>0.001369</td>\n",
              "      <td>1</td>\n",
              "      <td>0.997129</td>\n",
              "      <td>0.997017</td>\n",
              "      <td>0.997017</td>\n",
              "      <td>0.997007</td>\n",
              "      <td>0.997166</td>\n",
              "      <td>0.997067</td>\n",
              "      <td>6.666750e-05</td>\n",
              "    </tr>\n",
              "    <tr>\n",
              "      <th>6</th>\n",
              "      <td>0.282924</td>\n",
              "      <td>0.006757</td>\n",
              "      <td>0.010869</td>\n",
              "      <td>0.000990</td>\n",
              "      <td>6</td>\n",
              "      <td>3</td>\n",
              "      <td>NaN</td>\n",
              "      <td>{'max_features': 6, 'n_estimators': 3}</td>\n",
              "      <td>0.973623</td>\n",
              "      <td>0.976003</td>\n",
              "      <td>0.976292</td>\n",
              "      <td>0.976765</td>\n",
              "      <td>0.974567</td>\n",
              "      <td>0.975450</td>\n",
              "      <td>0.001172</td>\n",
              "      <td>10</td>\n",
              "      <td>0.994054</td>\n",
              "      <td>0.993458</td>\n",
              "      <td>0.993985</td>\n",
              "      <td>0.993911</td>\n",
              "      <td>0.993990</td>\n",
              "      <td>0.993880</td>\n",
              "      <td>2.156431e-04</td>\n",
              "    </tr>\n",
              "    <tr>\n",
              "      <th>7</th>\n",
              "      <td>0.921612</td>\n",
              "      <td>0.018447</td>\n",
              "      <td>0.028063</td>\n",
              "      <td>0.000392</td>\n",
              "      <td>6</td>\n",
              "      <td>10</td>\n",
              "      <td>NaN</td>\n",
              "      <td>{'max_features': 6, 'n_estimators': 10}</td>\n",
              "      <td>0.976982</td>\n",
              "      <td>0.979409</td>\n",
              "      <td>0.980970</td>\n",
              "      <td>0.979642</td>\n",
              "      <td>0.978708</td>\n",
              "      <td>0.979142</td>\n",
              "      <td>0.001305</td>\n",
              "      <td>3</td>\n",
              "      <td>0.996682</td>\n",
              "      <td>0.996215</td>\n",
              "      <td>0.996426</td>\n",
              "      <td>0.996420</td>\n",
              "      <td>0.996406</td>\n",
              "      <td>0.996430</td>\n",
              "      <td>1.485980e-04</td>\n",
              "    </tr>\n",
              "    <tr>\n",
              "      <th>8</th>\n",
              "      <td>2.777431</td>\n",
              "      <td>0.016468</td>\n",
              "      <td>0.090145</td>\n",
              "      <td>0.006773</td>\n",
              "      <td>6</td>\n",
              "      <td>30</td>\n",
              "      <td>NaN</td>\n",
              "      <td>{'max_features': 6, 'n_estimators': 30}</td>\n",
              "      <td>0.978065</td>\n",
              "      <td>0.981038</td>\n",
              "      <td>0.982099</td>\n",
              "      <td>0.981470</td>\n",
              "      <td>0.980222</td>\n",
              "      <td>0.980579</td>\n",
              "      <td>0.001397</td>\n",
              "      <td>2</td>\n",
              "      <td>0.997149</td>\n",
              "      <td>0.997060</td>\n",
              "      <td>0.997010</td>\n",
              "      <td>0.997090</td>\n",
              "      <td>0.997149</td>\n",
              "      <td>0.997091</td>\n",
              "      <td>5.335127e-05</td>\n",
              "    </tr>\n",
              "    <tr>\n",
              "      <th>9</th>\n",
              "      <td>0.006647</td>\n",
              "      <td>0.000112</td>\n",
              "      <td>0.000000</td>\n",
              "      <td>0.000000</td>\n",
              "      <td>8</td>\n",
              "      <td>3</td>\n",
              "      <td>NaN</td>\n",
              "      <td>{'max_features': 8, 'n_estimators': 3}</td>\n",
              "      <td>NaN</td>\n",
              "      <td>NaN</td>\n",
              "      <td>NaN</td>\n",
              "      <td>NaN</td>\n",
              "      <td>NaN</td>\n",
              "      <td>NaN</td>\n",
              "      <td>NaN</td>\n",
              "      <td>16</td>\n",
              "      <td>NaN</td>\n",
              "      <td>NaN</td>\n",
              "      <td>NaN</td>\n",
              "      <td>NaN</td>\n",
              "      <td>NaN</td>\n",
              "      <td>NaN</td>\n",
              "      <td>NaN</td>\n",
              "    </tr>\n",
              "    <tr>\n",
              "      <th>10</th>\n",
              "      <td>0.009512</td>\n",
              "      <td>0.000706</td>\n",
              "      <td>0.000000</td>\n",
              "      <td>0.000000</td>\n",
              "      <td>8</td>\n",
              "      <td>10</td>\n",
              "      <td>NaN</td>\n",
              "      <td>{'max_features': 8, 'n_estimators': 10}</td>\n",
              "      <td>NaN</td>\n",
              "      <td>NaN</td>\n",
              "      <td>NaN</td>\n",
              "      <td>NaN</td>\n",
              "      <td>NaN</td>\n",
              "      <td>NaN</td>\n",
              "      <td>NaN</td>\n",
              "      <td>17</td>\n",
              "      <td>NaN</td>\n",
              "      <td>NaN</td>\n",
              "      <td>NaN</td>\n",
              "      <td>NaN</td>\n",
              "      <td>NaN</td>\n",
              "      <td>NaN</td>\n",
              "      <td>NaN</td>\n",
              "    </tr>\n",
              "    <tr>\n",
              "      <th>11</th>\n",
              "      <td>0.018121</td>\n",
              "      <td>0.002038</td>\n",
              "      <td>0.000000</td>\n",
              "      <td>0.000000</td>\n",
              "      <td>8</td>\n",
              "      <td>30</td>\n",
              "      <td>NaN</td>\n",
              "      <td>{'max_features': 8, 'n_estimators': 30}</td>\n",
              "      <td>NaN</td>\n",
              "      <td>NaN</td>\n",
              "      <td>NaN</td>\n",
              "      <td>NaN</td>\n",
              "      <td>NaN</td>\n",
              "      <td>NaN</td>\n",
              "      <td>NaN</td>\n",
              "      <td>18</td>\n",
              "      <td>NaN</td>\n",
              "      <td>NaN</td>\n",
              "      <td>NaN</td>\n",
              "      <td>NaN</td>\n",
              "      <td>NaN</td>\n",
              "      <td>NaN</td>\n",
              "      <td>NaN</td>\n",
              "    </tr>\n",
              "    <tr>\n",
              "      <th>12</th>\n",
              "      <td>0.206046</td>\n",
              "      <td>0.003219</td>\n",
              "      <td>0.014066</td>\n",
              "      <td>0.000226</td>\n",
              "      <td>2</td>\n",
              "      <td>3</td>\n",
              "      <td>False</td>\n",
              "      <td>{'bootstrap': False, 'max_features': 2, 'n_est...</td>\n",
              "      <td>0.970915</td>\n",
              "      <td>0.972510</td>\n",
              "      <td>0.971431</td>\n",
              "      <td>0.971315</td>\n",
              "      <td>0.972034</td>\n",
              "      <td>0.971641</td>\n",
              "      <td>0.000564</td>\n",
              "      <td>14</td>\n",
              "      <td>0.999947</td>\n",
              "      <td>0.999948</td>\n",
              "      <td>0.999946</td>\n",
              "      <td>0.999948</td>\n",
              "      <td>0.999948</td>\n",
              "      <td>0.999947</td>\n",
              "      <td>6.934147e-07</td>\n",
              "    </tr>\n",
              "    <tr>\n",
              "      <th>13</th>\n",
              "      <td>0.666697</td>\n",
              "      <td>0.016348</td>\n",
              "      <td>0.040546</td>\n",
              "      <td>0.002369</td>\n",
              "      <td>2</td>\n",
              "      <td>10</td>\n",
              "      <td>False</td>\n",
              "      <td>{'bootstrap': False, 'max_features': 2, 'n_est...</td>\n",
              "      <td>0.976381</td>\n",
              "      <td>0.977128</td>\n",
              "      <td>0.979013</td>\n",
              "      <td>0.978594</td>\n",
              "      <td>0.976551</td>\n",
              "      <td>0.977533</td>\n",
              "      <td>0.001074</td>\n",
              "      <td>8</td>\n",
              "      <td>0.999948</td>\n",
              "      <td>0.999948</td>\n",
              "      <td>0.999946</td>\n",
              "      <td>0.999948</td>\n",
              "      <td>0.999948</td>\n",
              "      <td>0.999947</td>\n",
              "      <td>7.097762e-07</td>\n",
              "    </tr>\n",
              "    <tr>\n",
              "      <th>14</th>\n",
              "      <td>0.271043</td>\n",
              "      <td>0.004907</td>\n",
              "      <td>0.013933</td>\n",
              "      <td>0.000251</td>\n",
              "      <td>3</td>\n",
              "      <td>3</td>\n",
              "      <td>False</td>\n",
              "      <td>{'bootstrap': False, 'max_features': 3, 'n_est...</td>\n",
              "      <td>0.971143</td>\n",
              "      <td>0.973933</td>\n",
              "      <td>0.974073</td>\n",
              "      <td>0.975304</td>\n",
              "      <td>0.972475</td>\n",
              "      <td>0.973386</td>\n",
              "      <td>0.001436</td>\n",
              "      <td>13</td>\n",
              "      <td>0.999948</td>\n",
              "      <td>0.999948</td>\n",
              "      <td>0.999946</td>\n",
              "      <td>0.999948</td>\n",
              "      <td>0.999948</td>\n",
              "      <td>0.999947</td>\n",
              "      <td>7.435476e-07</td>\n",
              "    </tr>\n",
              "    <tr>\n",
              "      <th>15</th>\n",
              "      <td>0.846167</td>\n",
              "      <td>0.011464</td>\n",
              "      <td>0.035043</td>\n",
              "      <td>0.002503</td>\n",
              "      <td>3</td>\n",
              "      <td>10</td>\n",
              "      <td>False</td>\n",
              "      <td>{'bootstrap': False, 'max_features': 3, 'n_est...</td>\n",
              "      <td>0.976520</td>\n",
              "      <td>0.979105</td>\n",
              "      <td>0.980104</td>\n",
              "      <td>0.980008</td>\n",
              "      <td>0.978634</td>\n",
              "      <td>0.978874</td>\n",
              "      <td>0.001300</td>\n",
              "      <td>6</td>\n",
              "      <td>0.999948</td>\n",
              "      <td>0.999948</td>\n",
              "      <td>0.999946</td>\n",
              "      <td>0.999948</td>\n",
              "      <td>0.999948</td>\n",
              "      <td>0.999947</td>\n",
              "      <td>7.446165e-07</td>\n",
              "    </tr>\n",
              "    <tr>\n",
              "      <th>16</th>\n",
              "      <td>0.323965</td>\n",
              "      <td>0.009536</td>\n",
              "      <td>0.013643</td>\n",
              "      <td>0.000204</td>\n",
              "      <td>4</td>\n",
              "      <td>3</td>\n",
              "      <td>False</td>\n",
              "      <td>{'bootstrap': False, 'max_features': 4, 'n_est...</td>\n",
              "      <td>0.973617</td>\n",
              "      <td>0.974620</td>\n",
              "      <td>0.976219</td>\n",
              "      <td>0.976868</td>\n",
              "      <td>0.974166</td>\n",
              "      <td>0.975098</td>\n",
              "      <td>0.001240</td>\n",
              "      <td>11</td>\n",
              "      <td>0.999948</td>\n",
              "      <td>0.999948</td>\n",
              "      <td>0.999946</td>\n",
              "      <td>0.999948</td>\n",
              "      <td>0.999948</td>\n",
              "      <td>0.999947</td>\n",
              "      <td>7.397700e-07</td>\n",
              "    </tr>\n",
              "    <tr>\n",
              "      <th>17</th>\n",
              "      <td>1.054044</td>\n",
              "      <td>0.014303</td>\n",
              "      <td>0.036513</td>\n",
              "      <td>0.003388</td>\n",
              "      <td>4</td>\n",
              "      <td>10</td>\n",
              "      <td>False</td>\n",
              "      <td>{'bootstrap': False, 'max_features': 4, 'n_est...</td>\n",
              "      <td>0.976583</td>\n",
              "      <td>0.978979</td>\n",
              "      <td>0.980098</td>\n",
              "      <td>0.979537</td>\n",
              "      <td>0.978240</td>\n",
              "      <td>0.978687</td>\n",
              "      <td>0.001219</td>\n",
              "      <td>7</td>\n",
              "      <td>0.999948</td>\n",
              "      <td>0.999948</td>\n",
              "      <td>0.999946</td>\n",
              "      <td>0.999948</td>\n",
              "      <td>0.999948</td>\n",
              "      <td>0.999947</td>\n",
              "      <td>7.435339e-07</td>\n",
              "    </tr>\n",
              "  </tbody>\n",
              "</table>\n",
              "</div>"
            ],
            "text/plain": [
              "    mean_fit_time  std_fit_time  ...  mean_train_score  std_train_score\n",
              "0        0.139166      0.005747  ...          0.991081     3.119477e-04\n",
              "1        0.449622      0.010075  ...          0.995439     8.902808e-05\n",
              "2        1.315687      0.019619  ...          0.996766     8.978711e-05\n",
              "3        0.209192      0.007092  ...          0.993661     1.555604e-04\n",
              "4        0.692272      0.010519  ...          0.996257     8.104567e-05\n",
              "5        2.043274      0.007490  ...          0.997067     6.666750e-05\n",
              "6        0.282924      0.006757  ...          0.993880     2.156431e-04\n",
              "7        0.921612      0.018447  ...          0.996430     1.485980e-04\n",
              "8        2.777431      0.016468  ...          0.997091     5.335127e-05\n",
              "9        0.006647      0.000112  ...               NaN              NaN\n",
              "10       0.009512      0.000706  ...               NaN              NaN\n",
              "11       0.018121      0.002038  ...               NaN              NaN\n",
              "12       0.206046      0.003219  ...          0.999947     6.934147e-07\n",
              "13       0.666697      0.016348  ...          0.999947     7.097762e-07\n",
              "14       0.271043      0.004907  ...          0.999947     7.435476e-07\n",
              "15       0.846167      0.011464  ...          0.999947     7.446165e-07\n",
              "16       0.323965      0.009536  ...          0.999947     7.397700e-07\n",
              "17       1.054044      0.014303  ...          0.999947     7.435339e-07\n",
              "\n",
              "[18 rows x 23 columns]"
            ]
          },
          "metadata": {},
          "execution_count": 84
        }
      ]
    },
    {
      "cell_type": "code",
      "metadata": {
        "id": "GYgV3KRlVUyH",
        "colab": {
          "base_uri": "https://localhost:8080/"
        },
        "outputId": "b828e8d2-4251-45fe-a539-986112685c2b"
      },
      "source": [
        "cvres = grid_search.cv_results_\n",
        "for mean_score, params in zip(cvres[\"mean_test_score\"], cvres[\"params\"]):\n",
        "    print(np.sqrt(-mean_score), params)"
      ],
      "execution_count": null,
      "outputs": [
        {
          "output_type": "stream",
          "text": [
            "nan {'max_features': 2, 'n_estimators': 3}\n",
            "nan {'max_features': 2, 'n_estimators': 10}\n",
            "nan {'max_features': 2, 'n_estimators': 30}\n",
            "nan {'max_features': 4, 'n_estimators': 3}\n",
            "nan {'max_features': 4, 'n_estimators': 10}\n",
            "nan {'max_features': 4, 'n_estimators': 30}\n",
            "nan {'max_features': 6, 'n_estimators': 3}\n",
            "nan {'max_features': 6, 'n_estimators': 10}\n",
            "nan {'max_features': 6, 'n_estimators': 30}\n",
            "nan {'max_features': 8, 'n_estimators': 3}\n",
            "nan {'max_features': 8, 'n_estimators': 10}\n",
            "nan {'max_features': 8, 'n_estimators': 30}\n",
            "nan {'bootstrap': False, 'max_features': 2, 'n_estimators': 3}\n",
            "nan {'bootstrap': False, 'max_features': 2, 'n_estimators': 10}\n",
            "nan {'bootstrap': False, 'max_features': 3, 'n_estimators': 3}\n",
            "nan {'bootstrap': False, 'max_features': 3, 'n_estimators': 10}\n",
            "nan {'bootstrap': False, 'max_features': 4, 'n_estimators': 3}\n",
            "nan {'bootstrap': False, 'max_features': 4, 'n_estimators': 10}\n"
          ],
          "name": "stdout"
        },
        {
          "output_type": "stream",
          "text": [
            "/usr/local/lib/python3.7/dist-packages/ipykernel_launcher.py:3: RuntimeWarning: invalid value encountered in sqrt\n",
            "  This is separate from the ipykernel package so we can avoid doing imports until\n"
          ],
          "name": "stderr"
        }
      ]
    }
  ]
}